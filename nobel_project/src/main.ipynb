{
 "cells": [
  {
   "cell_type": "markdown",
   "metadata": {},
   "source": [
    "Import các module ở đây nhé mn"
   ]
  },
  {
   "cell_type": "code",
   "execution_count": 1,
   "metadata": {},
   "outputs": [],
   "source": [
    "from parsing_excel_infor import ExcelInfor\n",
    "from parsing_word_infor import WordInfor\n",
    "from question_classifier import QuestionClassifier\n",
    "from winner_embedding import WinnerEmbedding\n",
    "from cluster_variance import ClusterVariance\n",
    "import os"
   ]
  },
  {
   "cell_type": "markdown",
   "metadata": {},
   "source": [
    "Task1"
   ]
  },
  {
   "cell_type": "code",
   "execution_count": 2,
   "metadata": {},
   "outputs": [
    {
     "name": "stdout",
     "output_type": "stream",
     "text": [
      "<class 'list'> ['Interview Questions_Physics', 'Interview Questions Chemistry', 'interview Questions Medicine', 'Interview Questions Economical ', 'Interview Questions Literature']\n",
      ">>Save question information at: d:\\workspace\\study\\University\\Master\\Semester1\\DeepLeaning\\Git_repo\\DeepLearning\\nobel_project\\src/../input/excel/../processed/nobel_questions.json\n"
     ]
    }
   ],
   "source": [
    "# Define excel infor\n",
    "excel_path = os.getcwd() + \"/../input/excel/2024_NobelData_CodingSheet_0825-2025_Final.xlsx\"\n",
    "question_sheets = [\n",
    "\"Interview Questions_Physics\",\n",
    "\"Interview Questions Chemistry\",\n",
    "\"interview Questions Medicine\",\n",
    "\"Interview Questions Economical \",\n",
    "\"Interview Questions Literature\"\n",
    "]\n",
    "\n",
    "excel = ExcelInfor(excel_path, question_sheets)\n",
    "#excel.show()\n",
    "excel.parsing_excel_sheets()\n",
    "#excel.all_categories"
   ]
  },
  {
   "cell_type": "markdown",
   "metadata": {},
   "source": [
    "Task2 & Task3"
   ]
  },
  {
   "cell_type": "code",
   "execution_count": 3,
   "metadata": {},
   "outputs": [],
   "source": [
    "# Task 2\n",
    "word_folder = os.getcwd() + \"/../input/word\"\n",
    "word = WordInfor(word_folder)\n",
    "word.parse_word_files()\n",
    "word.all_people\n",
    "\n",
    "# Task 3\n",
    "output_csv = os.getcwd() + \"/../input/processed/interviews.csv\"\n",
    "word.export_interviews_to_csv(output_csv)"
   ]
  },
  {
   "cell_type": "markdown",
   "metadata": {},
   "source": [
    "Task4"
   ]
  },
  {
   "cell_type": "code",
   "execution_count": 4,
   "metadata": {},
   "outputs": [
    {
     "name": "stdout",
     "output_type": "stream",
     "text": [
      ">>Loaded 2316 training samples across 66 categories\n"
     ]
    },
    {
     "data": {
      "application/vnd.jupyter.widget-view+json": {
       "model_id": "99bef49f783e4dc9bf602db6c4c50e60",
       "version_major": 2,
       "version_minor": 0
      },
      "text/plain": [
       "Batches:   0%|          | 0/73 [00:00<?, ?it/s]"
      ]
     },
     "metadata": {},
     "output_type": "display_data"
    },
    {
     "data": {
      "application/vnd.jupyter.widget-view+json": {
       "model_id": "01e756b6bfc14924b27403055740e216",
       "version_major": 2,
       "version_minor": 0
      },
      "text/plain": [
       "Batches:   0%|          | 0/101 [00:00<?, ?it/s]"
      ]
     },
     "metadata": {},
     "output_type": "display_data"
    },
    {
     "name": "stdout",
     "output_type": "stream",
     "text": [
      ">>Saved classified interviews to d:\\workspace\\study\\University\\Master\\Semester1\\DeepLeaning\\Git_repo\\DeepLearning\\nobel_project\\src/../input/processed\\interviews_classified.csv\n"
     ]
    }
   ],
   "source": [
    "base_dir = os.getcwd() + \"/../input/processed\"\n",
    "qc = QuestionClassifier(\n",
    "    question_json=os.path.join(base_dir, \"nobel_questions.json\"),\n",
    "    interview_csv=os.path.join(base_dir, \"interviews.csv\"),\n",
    "    output_csv=os.path.join(base_dir, \"interviews_classified.csv\"),\n",
    "    k=5\n",
    ")\n",
    "qc.load_training_data()\n",
    "qc.classify_interviews()"
   ]
  },
  {
   "cell_type": "markdown",
   "metadata": {},
   "source": [
    "Task5"
   ]
  },
  {
   "cell_type": "code",
   "execution_count": 5,
   "metadata": {},
   "outputs": [
    {
     "name": "stdout",
     "output_type": "stream",
     "text": [
      ">> Saved embeddings at d:\\workspace\\study\\University\\Master\\Semester1\\DeepLeaning\\Git_repo\\DeepLearning\\nobel_project\\src/../input/processed/winner_embeddings.json\n"
     ]
    }
   ],
   "source": [
    "interview_classified_csv = os.getcwd() + \"/../input/processed/interviews_classified.csv\"\n",
    "out_path = os.getcwd() + \"/../input/processed/winner_embeddings.json\"\n",
    "\n",
    "we = WinnerEmbedding(interview_classified_csv)\n",
    "we.build_embeddings()\n",
    "we.save(out_path)"
   ]
  },
  {
   "cell_type": "markdown",
   "metadata": {},
   "source": [
    "Task6"
   ]
  },
  {
   "cell_type": "code",
   "execution_count": 6,
   "metadata": {},
   "outputs": [
    {
     "name": "stdout",
     "output_type": "stream",
     "text": [
      ">> Saved variance results at d:\\workspace\\study\\University\\Master\\Semester1\\DeepLeaning\\Git_repo\\DeepLearning\\nobel_project\\src/../input/processed/cluster_variance.json\n"
     ]
    }
   ],
   "source": [
    "embedding_file = os.getcwd() + \"/../input/processed/winner_embeddings.json\"\n",
    "out_path = os.getcwd() + \"/../input/processed/cluster_variance.json\"\n",
    "\n",
    "cv = ClusterVariance(embedding_file)\n",
    "cv.save(out_path)"
   ]
  },
  {
   "cell_type": "markdown",
   "metadata": {},
   "source": [
    "Task7: Task này ae mình cần đưa thông tin của một người vào và xác định xem người đó có tỷ lệ bao nhiêu phần trăm nhận giải nobel"
   ]
  }
 ],
 "metadata": {
  "kernelspec": {
   "display_name": "Python 3",
   "language": "python",
   "name": "python3"
  },
  "language_info": {
   "codemirror_mode": {
    "name": "ipython",
    "version": 3
   },
   "file_extension": ".py",
   "mimetype": "text/x-python",
   "name": "python",
   "nbconvert_exporter": "python",
   "pygments_lexer": "ipython3",
   "version": "3.12.3"
  }
 },
 "nbformat": 4,
 "nbformat_minor": 2
}
