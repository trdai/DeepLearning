{
 "cells": [
  {
   "cell_type": "markdown",
   "metadata": {},
   "source": [
    "Import các module ở đây nhé mn"
   ]
  },
  {
   "cell_type": "code",
   "execution_count": 1,
   "metadata": {},
   "outputs": [],
   "source": [
    "from parsing_excel_infor import ExcelInfor\n",
    "import os"
   ]
  },
  {
   "cell_type": "markdown",
   "metadata": {},
   "source": [
    "Task1"
   ]
  },
  {
   "cell_type": "code",
   "execution_count": null,
   "metadata": {},
   "outputs": [
    {
     "name": "stdout",
     "output_type": "stream",
     "text": [
      ">>Excel path: d:\\workspace\\study\\University\\Master\\Semester1\\DeepLeaning\\Git_repo\\DeepLearning\\nobel_project\\src/../input/excel/2024_NobelData_CodingSheet_0825-2025_Final.xlsx\n",
      ">>Excel sheets: ['Interview Questions_Physics', 'Interview Questions Chemistry', 'interview Questions Medicine', 'Interview Questions Economical ', 'Interview Questions Literature']\n",
      "<class 'list'> ['Interview Questions_Physics', 'Interview Questions Chemistry', 'interview Questions Medicine', 'Interview Questions Economical ', 'Interview Questions Literature']\n",
      ">>Save question information at: d:\\workspace\\study\\University\\Master\\Semester1\\DeepLeaning\\Git_repo\\DeepLearning\\nobel_project\\src/../input/excel/../processed/nobel_questions.json\n"
     ]
    }
   ],
   "source": [
    "# Define excel infor\n",
    "excel_path = os.getcwd() + \"/../input/excel/2024_NobelData_CodingSheet_0825-2025_Final.xlsx\"\n",
    "question_sheets = [\n",
    "\"Interview Questions_Physics\",\n",
    "\"Interview Questions Chemistry\",\n",
    "\"interview Questions Medicine\",\n",
    "\"Interview Questions Economical \",\n",
    "\"Interview Questions Literature\"\n",
    "]\n",
    "\n",
    "excel = ExcelInfor(excel_path, question_sheets)\n",
    "excel.show()\n",
    "excel.parsing_excel_sheets()\n",
    "excel.all_categories"
   ]
  }
 ],
 "metadata": {
  "kernelspec": {
   "display_name": "Python 3",
   "language": "python",
   "name": "python3"
  },
  "language_info": {
   "codemirror_mode": {
    "name": "ipython",
    "version": 3
   },
   "file_extension": ".py",
   "mimetype": "text/x-python",
   "name": "python",
   "nbconvert_exporter": "python",
   "pygments_lexer": "ipython3",
   "version": "3.12.3"
  }
 },
 "nbformat": 4,
 "nbformat_minor": 2
}
